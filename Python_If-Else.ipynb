{
 "cells": [
  {
   "cell_type": "markdown",
   "metadata": {},
   "source": [
    "https://www.hackerrank.com/challenges/py-if-else/problem?isFullScreen=true\n",
    "\n",
    "Task\n",
    "Given an integer,\n",
    "\n",
    ", perform the following conditional actions:\n",
    "\n",
    "    If \n",
    "\n",
    "is odd, print Weird\n",
    "If\n",
    "is even and in the inclusive range of to\n",
    ", print Not Weird\n",
    "If\n",
    "is even and in the inclusive range of to\n",
    ", print Weird\n",
    "If\n",
    "is even and greater than , print Not Weird"
   ]
  },
  {
   "cell_type": "code",
   "execution_count": 1,
   "metadata": {},
   "outputs": [
    {
     "name": "stdout",
     "output_type": "stream",
     "text": [
      "Weird\n"
     ]
    }
   ],
   "source": [
    "#!/bin/python3\n",
    "\n",
    "import math\n",
    "import os\n",
    "import random\n",
    "import re\n",
    "import sys\n",
    "\n",
    "\n",
    "\n",
    "if __name__ == '__main__':\n",
    "    n = int(input().strip())\n",
    "    if(n%2 != 0):\n",
    "        print(\"Weird\")\n",
    "    elif(n%2 == 0 and 2<=n<=5):\n",
    "        print(\"Not Weird\")\n",
    "    elif(n%2 == 0 and 6<=n<=20):\n",
    "        print(\"Weird\")\n",
    "    elif(n%2 == 0 and n>20):\n",
    "        print(\"Not Weird\")\n"
   ]
  }
 ],
 "metadata": {
  "kernelspec": {
   "display_name": "base",
   "language": "python",
   "name": "python3"
  },
  "language_info": {
   "codemirror_mode": {
    "name": "ipython",
    "version": 3
   },
   "file_extension": ".py",
   "mimetype": "text/x-python",
   "name": "python",
   "nbconvert_exporter": "python",
   "pygments_lexer": "ipython3",
   "version": "3.9.13"
  },
  "orig_nbformat": 4
 },
 "nbformat": 4,
 "nbformat_minor": 2
}
