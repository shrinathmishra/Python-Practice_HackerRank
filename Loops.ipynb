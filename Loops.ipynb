{
 "cells": [
  {
   "cell_type": "markdown",
   "metadata": {},
   "source": [
    "https://www.hackerrank.com/challenges/python-loops/problem?isFullScreen=true\n",
    "\n",
    "Task\n",
    "The provided code stub reads and integer, , from STDIN. For all non-negative integers , print\n",
    "\n",
    ".\n",
    "\n",
    "Example\n",
    "The list of non-negative integers that are less than is . Print the square of each number on a separate line."
   ]
  },
  {
   "cell_type": "code",
   "execution_count": null,
   "metadata": {},
   "outputs": [],
   "source": [
    "if __name__ == '__main__':\n",
    "    n = int(input())\n",
    "    \n",
    "    for i in range(n):\n",
    "        print(i*i);"
   ]
  }
 ],
 "metadata": {
  "language_info": {
   "name": "python"
  },
  "orig_nbformat": 4
 },
 "nbformat": 4,
 "nbformat_minor": 2
}
