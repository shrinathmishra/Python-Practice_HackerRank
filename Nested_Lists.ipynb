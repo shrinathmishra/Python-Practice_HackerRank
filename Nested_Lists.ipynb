{
 "cells": [
  {
   "cell_type": "markdown",
   "metadata": {},
   "source": [
    "https://www.hackerrank.com/challenges/nested-list/problem\n",
    "\n",
    "Given the names and grades for each student in a class of\n",
    "\n",
    "students, store them in a nested list and print the name(s) of any student(s) having the second lowest grade.\n",
    "\n",
    "Note: If there are multiple students with the second lowest grade, order their names alphabetically and print each name on a new line."
   ]
  },
  {
   "cell_type": "code",
   "execution_count": null,
   "metadata": {},
   "outputs": [],
   "source": [
    "if __name__ == '__main__': \n",
    "    score_name_mapping = {}\n",
    "    for _ in range(int(input())):\n",
    "        name = input()\n",
    "        score = float(input())\n",
    "        \n",
    "        \n",
    "        if score not in score_name_mapping:\n",
    "            score_name_mapping[score] = set()\n",
    "        score_name_mapping[score].add(name)\n",
    "        \n",
    "    sorted_score_list = sorted(list(score_name_mapping.keys()))\n",
    "    second_sorted_score_names = sorted(score_name_mapping.get(sorted_score_list[1]))\n",
    "    \n",
    "    for name in second_sorted_score_names:\n",
    "        print(name)"
   ]
  }
 ],
 "metadata": {
  "language_info": {
   "name": "python"
  },
  "orig_nbformat": 4
 },
 "nbformat": 4,
 "nbformat_minor": 2
}
