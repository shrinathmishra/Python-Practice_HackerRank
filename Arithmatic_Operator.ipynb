{
 "cells": [
  {
   "cell_type": "markdown",
   "metadata": {},
   "source": [
    "https://www.hackerrank.com/challenges/python-arithmetic-operators/problem?isFullScreen=true\n",
    "\n",
    "Task\n",
    "The provided code stub reads two integers from STDIN, and\n",
    "\n",
    ". Add code to print three lines where:\n",
    "\n",
    "    The first line contains the sum of the two numbers.\n",
    "    The second line contains the difference of the two numbers (first - second).\n",
    "    The third line contains the product of the two numbers.\n"
   ]
  },
  {
   "cell_type": "code",
   "execution_count": null,
   "metadata": {},
   "outputs": [],
   "source": [
    "if __name__ == '__main__':\n",
    "    a = int(input())\n",
    "    b = int(input())\n",
    "    \n",
    "    print(a+b)\n",
    "    print(a-b)\n",
    "    print(a*b)"
   ]
  }
 ],
 "metadata": {
  "language_info": {
   "name": "python"
  },
  "orig_nbformat": 4
 },
 "nbformat": 4,
 "nbformat_minor": 2
}
